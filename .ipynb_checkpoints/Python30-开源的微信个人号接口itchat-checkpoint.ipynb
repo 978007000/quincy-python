{
 "cells": [
  {
   "cell_type": "markdown",
   "metadata": {},
   "source": [
    "itchat是一个开源的微信个人号接口\n",
    "\n",
    "[itchat文档地址](https://itchat.readthedocs.io/zh/latest/)"
   ]
  },
  {
   "cell_type": "code",
   "execution_count": 41,
   "metadata": {},
   "outputs": [
    {
     "name": "stderr",
     "output_type": "stream",
     "text": [
      "itchat has already logged in.\n"
     ]
    },
    {
     "data": {
      "text/plain": [
       "<ItchatReturnValue: {'BaseResponse': {'Ret': 0, 'ErrMsg': '请求成功', 'RawMsg': '请求成功'}, 'MsgID': '8935874207114774872', 'LocalID': '15030459375606'}>"
      ]
     },
     "execution_count": 41,
     "metadata": {},
     "output_type": "execute_result"
    }
   ],
   "source": [
    "import itchat\n",
    "itchat.auto_login()"
   ]
  },
  {
   "cell_type": "code",
   "execution_count": 38,
   "metadata": {},
   "outputs": [
    {
     "data": {
      "text/plain": [
       "[<User: {'MemberList': <ContactList: []>, 'Uin': 0, 'UserName': '@22900b04b63c55b45cd5d61908ed7690ec64d34e171e00e0aba6a1cd88ff74f2', 'NickName': '话歪之地', 'HeadImgUrl': '/cgi-bin/mmwebwx-bin/webwxgeticon?seq=664628405&username=@22900b04b63c55b45cd5d61908ed7690ec64d34e171e00e0aba6a1cd88ff74f2&skey=@crypt_6d9d76c8_c7c872ad4386f09a7394c277a14efc18', 'ContactFlag': 8195, 'MemberCount': 0, 'RemarkName': '熊高雄', 'HideInputBarFlag': 0, 'Sex': 1, 'Signature': '同名微博', 'VerifyFlag': 0, 'OwnerUin': 0, 'PYInitial': 'HWZD', 'PYQuanPin': 'huawaizhide', 'RemarkPYInitial': 'XGX', 'RemarkPYQuanPin': 'xionggaoxiong', 'StarFriend': 0, 'AppAccountFlag': 0, 'Statues': 0, 'AttrStatus': 98405, 'Province': '浙江', 'City': '杭州', 'Alias': '', 'SnsFlag': 177, 'UniFriend': 0, 'DisplayName': '', 'ChatRoomId': 0, 'KeyWord': '', 'EncryChatRoomId': '', 'IsOwner': 0}>]"
      ]
     },
     "execution_count": 38,
     "metadata": {},
     "output_type": "execute_result"
    }
   ],
   "source": [
    "# 获取自己的用户信息，返回自己的属性字典\n",
    "itchat.search_friends()\n",
    "\n",
    "# 获取任何一项等于name键值的用户\n",
    "itchat.search_friends(name='熊高雄')\n"
   ]
  },
  {
   "cell_type": "code",
   "execution_count": 43,
   "metadata": {},
   "outputs": [
    {
     "data": {
      "text/plain": [
       "<ItchatReturnValue: {'BaseResponse': {'Ret': 0, 'ErrMsg': '请求成功', 'RawMsg': '请求成功'}, 'MsgID': '7128434327145258374', 'LocalID': '15030459754332'}>"
      ]
     },
     "execution_count": 43,
     "metadata": {},
     "output_type": "execute_result"
    }
   ],
   "source": [
    "itchat.send('高雄你给我发一条信息，我试试我能不能自动回复', toUserName='@22900b04b63c55b45cd5d61908ed7690ec64d34e171e00e0aba6a1cd88ff74f2')"
   ]
  },
  {
   "cell_type": "code",
   "execution_count": 44,
   "metadata": {},
   "outputs": [
    {
     "data": {
      "text/plain": [
       "<ItchatReturnValue: {'BaseResponse': {'Ret': 0, 'ErrMsg': '请求成功', 'RawMsg': '请求成功'}, 'MsgID': '5486567055566135429', 'LocalID': '15030459881768'}>"
      ]
     },
     "execution_count": 44,
     "metadata": {},
     "output_type": "execute_result"
    }
   ],
   "source": [
    "itchat.send('我能自动给你回复', toUserName='@22900b04b63c55b45cd5d61908ed7690ec64d34e171e00e0aba6a1cd88ff74f2')"
   ]
  }
 ],
 "metadata": {
  "kernelspec": {
   "display_name": "Python 3",
   "language": "python",
   "name": "python3"
  }
 },
 "nbformat": 4,
 "nbformat_minor": 2
}
