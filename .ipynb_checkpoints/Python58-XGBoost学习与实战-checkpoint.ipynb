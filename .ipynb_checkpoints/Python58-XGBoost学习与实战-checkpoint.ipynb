{
 "cells": [
  {
   "cell_type": "markdown",
   "metadata": {},
   "source": [
    "# 学习目标\n",
    "\n",
    "1. 从数学原理到项目实战\n",
    "    - XGBoost参数调优需要了解模型基本原理\n",
    "    - 参照Kaggle竞赛任务进行讲解\n",
    "\n",
    "2. 举一反三，可以更快更好学习其他机器学习模型\n",
    "    - 从机器学习模型的一般原理，到XGBoost的特别之处\n",
    "\n",
    "# XGBoost\n",
    "1. XGBoost：eXtreme Gradient Boosting\n",
    "    - 应用机器学习领域一个强有力的工具\n",
    "    - Gradient Boosting Machine（GBM）的优化实现、快速有效\n",
    "2. 很多数据柯旭竞赛中取得了很好的成绩\n",
    "    - Rank 1，KDD Cup 2016 Competition\n",
    "    - Rank 1,Dato Truly Native(Kaggle)\n",
    "    - Rank1 CERN LHCb Experiment Flavor of Physics Competion"
   ]
  },
  {
   "cell_type": "markdown",
   "metadata": {},
   "source": [
    "#  环境准备\n",
    "1. Python环境：python3.6\n",
    "2. Python工具包:\n",
    "    - 科学计算（numpy,SciPy,pandas）,机器学习（scikit-learn）、图形绘制（matplotlib）\n",
    "    - Anaconda,集成了上面所有的环境\n",
    "    - Jupyter NoteBook\n",
    "3. XGBoost安装\n",
    "4. graphviz 安装（可选）\n",
    "    - 可视化工具包，显示树结构"
   ]
  },
  {
   "cell_type": "code",
   "execution_count": null,
   "metadata": {},
   "outputs": [],
   "source": []
  }
 ],
 "metadata": {
  "kernelspec": {
   "display_name": "Python 3",
   "language": "python",
   "name": "python3"
  },
  "language_info": {
   "codemirror_mode": {
    "name": "ipython",
    "version": 3
   },
   "file_extension": ".py",
   "mimetype": "text/x-python",
   "name": "python",
   "nbconvert_exporter": "python",
   "pygments_lexer": "ipython3",
   "version": "3.6.4"
  }
 },
 "nbformat": 4,
 "nbformat_minor": 2
}
