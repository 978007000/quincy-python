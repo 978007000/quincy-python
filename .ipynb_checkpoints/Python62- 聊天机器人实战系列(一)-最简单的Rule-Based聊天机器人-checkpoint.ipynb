{
 "cells": [
  {
   "cell_type": "markdown",
   "metadata": {},
   "source": [
    "# 最基础版本的rule-base机器人\n",
    "问什么，答什么"
   ]
  },
  {
   "cell_type": "code",
   "execution_count": 4,
   "metadata": {},
   "outputs": [
    {
     "name": "stdout",
     "output_type": "stream",
     "text": [
      ">>>hi\n",
      "hello\n",
      ">>>How are you?\n",
      "I`m fine\n",
      ">>>oka\n",
      "I did not understand what you said\n",
      ">>>how are u\n",
      "I did not understand what you said\n",
      ">>>bye\n"
     ]
    }
   ],
   "source": [
    "import random\n",
    "\n",
    "# 打招呼\n",
    "greetings=['hola','hello','hi','Hi','hey!','hey']\n",
    "\n",
    "# 回复打招呼\n",
    "random_greeting=random.choice(greetings)\n",
    "\n",
    "# 对于“你怎么样”这个问题的回复\n",
    "question=['How are you?','How are you doing?']\n",
    "\n",
    "# \"我很好\"\n",
    "response=['Okay','I`m fine']\n",
    "\n",
    "# 随机选择\n",
    "random_response=random.choice(response)\n",
    "\n",
    "\n",
    "# 机器人跑起来\n",
    "while True:\n",
    "    userInput=input(\">>>\")\n",
    "    if userInput in greetings:\n",
    "        print(random_greeting)\n",
    "    elif userInput in question:\n",
    "        print(random_response)\n",
    "    elif userInput=='bye':\n",
    "        break\n",
    "    else:\n",
    "        print(\"I did not understand what you said\")\n"
   ]
  },
  {
   "cell_type": "markdown",
   "metadata": {},
   "source": [
    "# 升级 1：\n",
    "显然 这样的rule太弱鸡了，我们需要更好一点的“精准对答”\n",
    "\n",
    "比如\n",
    "\n",
    "透过关键词来判断这句话的意图是什么（intents）"
   ]
  },
  {
   "cell_type": "code",
   "execution_count": 5,
   "metadata": {},
   "outputs": [
    {
     "name": "stdout",
     "output_type": "stream",
     "text": [
      ">>>hi\n",
      "hey\n",
      ">>>break\n",
      "It was nice! I went to Paris\n",
      ">>>wow\n",
      "I did not understand what you said\n",
      ">>>break\n",
      "It was nice! I went to Paris\n",
      ">>>bye\n"
     ]
    }
   ],
   "source": [
    "from nltk import word_tokenize\n",
    "import random\n",
    "\n",
    "# 打招呼\n",
    "greetings=['hola','hello','hi','Hi','hey!','hey']\n",
    "# 回复打招呼\n",
    "random_greeting=random.choice(greetings)\n",
    "\n",
    "# 对于“假期”的话题关键词\n",
    "question=['break','holiday','vacation','weekend']\n",
    "\n",
    "# 回复假期话题\n",
    "response=['It was nice! I went to Paris',\"Sadly,I just stayed at home\"]\n",
    "# 随机选一个回答\n",
    "random_response=random.choice(response)\n",
    "\n",
    "# 机器人跑起来\n",
    "while True:\n",
    "    userInput=input(\">>>\")\n",
    "    # 清理下输入，看看的=都有那些词\n",
    "    cleaned_input=word_tokenize(userInput)\n",
    "    # 这里，比较下关键词，看看它属于哪个话题\n",
    "    if not set(cleaned_input).isdisjoint(greetings):\n",
    "        print(random_greeting)\n",
    "    elif not set(cleaned_input).isdisjoint(question):\n",
    "        print(random_response)\n",
    "    # \"\"bye\"\n",
    "    elif userInput=='bye':\n",
    "        break\n",
    "    else:\n",
    "        print('I did not understand what you said')"
   ]
  },
  {
   "cell_type": "code",
   "execution_count": null,
   "metadata": {},
   "outputs": [],
   "source": []
  }
 ],
 "metadata": {
  "kernelspec": {
   "display_name": "Python 3",
   "language": "python",
   "name": "python3"
  },
  "language_info": {
   "codemirror_mode": {
    "name": "ipython",
    "version": 3
   },
   "file_extension": ".py",
   "mimetype": "text/x-python",
   "name": "python",
   "nbconvert_exporter": "python",
   "pygments_lexer": "ipython3",
   "version": "3.6.4"
  }
 },
 "nbformat": 4,
 "nbformat_minor": 2
}
