{
 "cells": [
  {
   "cell_type": "code",
   "execution_count": 5,
   "metadata": {},
   "outputs": [
    {
     "data": {
      "text/plain": [
       "array([[ 0.70142516,  0.76624286,  0.76852817,  0.85341183],\n",
       "       [ 0.91703107,  0.22960455,  0.91748342,  0.43678499],\n",
       "       [ 0.45848005,  0.48995716,  0.03290136,  0.12290189],\n",
       "       [ 0.81532653,  0.55516196,  0.06988277,  0.44067742]])"
      ]
     },
     "execution_count": 5,
     "metadata": {},
     "output_type": "execute_result"
    }
   ],
   "source": [
    "#构造4x4的随机数组\n",
    "from numpy import *\n",
    "random.rand(4,4)"
   ]
  },
  {
   "cell_type": "code",
   "execution_count": 8,
   "metadata": {},
   "outputs": [
    {
     "data": {
      "text/plain": [
       "matrix([[ 0.17193286,  0.08985372,  0.22320666,  0.18523909],\n",
       "        [ 0.51839513,  0.80512071,  0.16249185,  0.87934443],\n",
       "        [ 0.49437921,  0.93479144,  0.43857547,  0.53567519],\n",
       "        [ 0.77724728,  0.31666018,  0.21805704,  0.88864842]])"
      ]
     },
     "execution_count": 8,
     "metadata": {},
     "output_type": "execute_result"
    }
   ],
   "source": [
    "#调用mat函数将数组转换成矩阵matrix\n",
    "randMat=mat(random.rand(4,4))\n",
    "randMat"
   ]
  },
  {
   "cell_type": "code",
   "execution_count": 10,
   "metadata": {},
   "outputs": [
    {
     "data": {
      "text/plain": [
       "matrix([[-6.01149667, -3.93799415,  2.79598486,  3.46444966],\n",
       "        [-2.3842268 ,  0.04888959,  1.38835591, -0.38828245],\n",
       "        [ 6.28097775,  0.21311018, -0.34221547, -1.31386443],\n",
       "        [ 4.5662577 ,  3.37461207, -2.85623214, -1.44408413]])"
      ]
     },
     "execution_count": 10,
     "metadata": {},
     "output_type": "execute_result"
    }
   ],
   "source": [
    "#矩阵求逆运算\n",
    "randMat.I"
   ]
  },
  {
   "cell_type": "code",
   "execution_count": 13,
   "metadata": {},
   "outputs": [
    {
     "data": {
      "text/plain": [
       "matrix([[  1.00000000e+00,  -1.11022302e-16,   1.66533454e-16,\n",
       "           0.00000000e+00],\n",
       "        [  4.44089210e-16,   1.00000000e+00,   2.22044605e-16,\n",
       "          -2.22044605e-16],\n",
       "        [  4.99600361e-16,  -2.22044605e-16,   1.00000000e+00,\n",
       "          -2.22044605e-16],\n",
       "        [  8.88178420e-16,   0.00000000e+00,   0.00000000e+00,\n",
       "           1.00000000e+00]])"
      ]
     },
     "execution_count": 13,
     "metadata": {},
     "output_type": "execute_result"
    }
   ],
   "source": [
    "#矩阵乘法\n",
    "invRandmat=randMat.I\n",
    "randMat*invRandmat"
   ]
  },
  {
   "cell_type": "code",
   "execution_count": 15,
   "metadata": {},
   "outputs": [
    {
     "data": {
      "text/plain": [
       "matrix([[  2.22044605e-16,  -1.11022302e-16,   1.66533454e-16,\n",
       "           0.00000000e+00],\n",
       "        [  4.44089210e-16,  -4.44089210e-16,   2.22044605e-16,\n",
       "          -2.22044605e-16],\n",
       "        [  4.99600361e-16,  -2.22044605e-16,   2.22044605e-16,\n",
       "          -2.22044605e-16],\n",
       "        [  8.88178420e-16,   0.00000000e+00,   0.00000000e+00,\n",
       "          -2.22044605e-16]])"
      ]
     },
     "execution_count": 15,
     "metadata": {},
     "output_type": "execute_result"
    }
   ],
   "source": [
    "#矩阵乘以其逆矩阵应该是单位矩阵，下面是得到误差值\n",
    "myEye=randMat*invRandmat\n",
    "myEye-eye(4)"
   ]
  },
  {
   "cell_type": "code",
   "execution_count": null,
   "metadata": {
    "collapsed": true
   },
   "outputs": [],
   "source": []
  }
 ],
 "metadata": {
  "kernelspec": {
   "display_name": "Python 3",
   "language": "python",
   "name": "python3"
  },
  "language_info": {
   "codemirror_mode": {
    "name": "ipython",
    "version": 3
   },
   "file_extension": ".py",
   "mimetype": "text/x-python",
   "name": "python",
   "nbconvert_exporter": "python",
   "pygments_lexer": "ipython3",
   "version": "3.6.1"
  }
 },
 "nbformat": 4,
 "nbformat_minor": 2
}
