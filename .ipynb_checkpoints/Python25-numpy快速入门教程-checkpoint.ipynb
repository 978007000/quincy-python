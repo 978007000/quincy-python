{
 "cells": [
  {
   "cell_type": "markdown",
   "metadata": {},
   "source": [
    "参考 https://docs.scipy.org/doc/numpy-dev/user/quickstart.html\n",
    "NumPy的主要对象是具有相同数据类型数据的多维数组。它是一个含有相同数据（通常为数字）类型的表，这些有一组整数来标  注索引。\n",
    "NumPy的维称作成轴(axis)，轴的个数叫做行(rank)。比如：\n",
    " [1, 2, 1]\n",
    " 轴的个数为1，行(rank)就是1\n",
    " \n",
    " [[ 1., 0., 0.],\n",
    " [ 0., 1., 2.]] \n",
    " 上面这个数组有2行(也就是它是2维的)，第一位维度的长度为2（也就是2行），第二维度的长度为3（也就是3列）"
   ]
  },
  {
   "cell_type": "markdown",
   "metadata": {},
   "source": [
    "NumPy的数组类叫作ndarray。下面是ndarray的几个重要属性\n",
    "ndarray.ndim:数组的轴的个数（就是维数）\n",
    "ndarray.shape:数组的维度(是一个元组)。比如矩阵有n行m列，那么shape为（n,m）\n",
    "ndarray.size:数组元素的个数。也是shape(n,m)元素的乘积\n",
    "ndarray.dtype:数组元素类型的描述。例如：numpy.int32, numpy.int16, and numpy.float64 \n",
    "ndarray.itemsize:数组每个元素的字节大小。对于类型为floa64的元素，itemsize为8（=64/8，1byte=8bit）\n",
    "ndarray.data:数组的缓存数据。通常情况下通过索引获取数据，不必要使用这个属性"
   ]
  },
  {
   "cell_type": "raw",
   "metadata": {},
   "source": [
    "快速入门实例"
   ]
  },
  {
   "cell_type": "code",
   "execution_count": 1,
   "metadata": {},
   "outputs": [
    {
     "name": "stdout",
     "output_type": "stream",
     "text": [
      "[ 0  1  2  3  4  5  6  7  8  9 10 11 12 13 14]\n",
      "[[ 0  1  2  3  4]\n",
      " [ 5  6  7  8  9]\n",
      " [10 11 12 13 14]]\n",
      "b.shape= (3, 5)\n",
      "b.ndim= 2\n",
      "b.dtype.name= int32\n",
      "b.itemsize= 4\n",
      "b.size= 15\n",
      "b.type= <class 'numpy.ndarray'>\n"
     ]
    }
   ],
   "source": [
    "import numpy  as np\n",
    "a=np.arange(15)\n",
    "b=a.reshape(3,5)\n",
    "print(a)\n",
    "print(b)\n",
    "print(\"b.shape=\",b.shape)\n",
    "print(\"b.ndim=\",b.ndim)\n",
    "print(\"b.dtype.name=\",b.dtype.name)\n",
    "print(\"b.itemsize=\",b.itemsize)\n",
    "print(\"b.size=\",b.size)\n",
    "print(\"b.type=\",type(b))"
   ]
  },
  {
   "cell_type": "markdown",
   "metadata": {},
   "source": [
    "1.创建数组"
   ]
  },
  {
   "cell_type": "code",
   "execution_count": 2,
   "metadata": {},
   "outputs": [
    {
     "name": "stdout",
     "output_type": "stream",
     "text": [
      "[1 2 3] int32\n",
      "float64\n"
     ]
    }
   ],
   "source": [
    "a=np.array([1,2,3])\n",
    "print(a,a.dtype)\n",
    "b=np.array([1,2,3,4,5.0])\n",
    "print(b.dtype)"
   ]
  },
  {
   "cell_type": "code",
   "execution_count": 3,
   "metadata": {},
   "outputs": [
    {
     "ename": "ValueError",
     "evalue": "only 2 non-keyword arguments accepted",
     "output_type": "error",
     "traceback": [
      "\u001b[1;31m---------------------------------------------------------------------------\u001b[0m",
      "\u001b[1;31mValueError\u001b[0m                                Traceback (most recent call last)",
      "\u001b[1;32m<ipython-input-3-2caf19854538>\u001b[0m in \u001b[0;36m<module>\u001b[1;34m()\u001b[0m\n\u001b[0;32m      1\u001b[0m \u001b[1;31m#一个常见错误就是：提供给array的参数是多个数字，而不是包含数字的列表\u001b[0m\u001b[1;33m\u001b[0m\u001b[1;33m\u001b[0m\u001b[0m\n\u001b[1;32m----> 2\u001b[1;33m \u001b[0ma\u001b[0m\u001b[1;33m=\u001b[0m\u001b[0mnp\u001b[0m\u001b[1;33m.\u001b[0m\u001b[0marray\u001b[0m\u001b[1;33m(\u001b[0m\u001b[1;36m1\u001b[0m\u001b[1;33m,\u001b[0m\u001b[1;36m2\u001b[0m\u001b[1;33m,\u001b[0m\u001b[1;36m3\u001b[0m\u001b[1;33m,\u001b[0m\u001b[1;36m4\u001b[0m\u001b[1;33m)\u001b[0m\u001b[1;31m#错误\u001b[0m\u001b[1;33m\u001b[0m\u001b[0m\n\u001b[0m\u001b[0;32m      3\u001b[0m \u001b[0ma\u001b[0m\u001b[1;33m=\u001b[0m\u001b[0mnp\u001b[0m\u001b[1;33m.\u001b[0m\u001b[0marray\u001b[0m\u001b[1;33m(\u001b[0m\u001b[1;33m[\u001b[0m\u001b[1;36m1\u001b[0m\u001b[1;33m,\u001b[0m\u001b[1;36m2\u001b[0m\u001b[1;33m,\u001b[0m\u001b[1;36m3\u001b[0m\u001b[1;33m,\u001b[0m\u001b[1;36m4\u001b[0m\u001b[1;33m]\u001b[0m\u001b[1;33m)\u001b[0m\u001b[1;31m#正确\u001b[0m\u001b[1;33m\u001b[0m\u001b[0m\n",
      "\u001b[1;31mValueError\u001b[0m: only 2 non-keyword arguments accepted"
     ]
    }
   ],
   "source": [
    "#一个常见错误就是：提供给array的参数是多个数字，而不是包含数字的列表\n",
    "a=np.array(1,2,3,4)#错误\n",
    "a=np.array([1,2,3,4])#正确"
   ]
  },
  {
   "cell_type": "code",
   "execution_count": 4,
   "metadata": {},
   "outputs": [
    {
     "data": {
      "text/plain": [
       "array([(1, 2, 3, 5), (4, 5, 6)], dtype=object)"
      ]
     },
     "execution_count": 4,
     "metadata": {},
     "output_type": "execute_result"
    }
   ],
   "source": [
    "#创建多维数组\n",
    "b=np.array([(1,2,3,5),(4,5,6)])\n",
    "b"
   ]
  },
  {
   "cell_type": "code",
   "execution_count": 5,
   "metadata": {},
   "outputs": [
    {
     "data": {
      "text/plain": [
       "array([[ 1.+0.j,  2.+0.j],\n",
       "       [ 3.+0.j,  4.+0.j]])"
      ]
     },
     "execution_count": 5,
     "metadata": {},
     "output_type": "execute_result"
    }
   ],
   "source": [
    "#创建数组的时候，可以声明数组的数据类型\n",
    "c=np.array([[1,2],[3,4]],dtype=complex)\n",
    "c"
   ]
  },
  {
   "cell_type": "markdown",
   "metadata": {},
   "source": [
    "关于：zeros,ones、empty\n",
    "zeros()：创建元素全为0的数组\n",
    "ones()：创建元素全为1的数组\n",
    "empty():创建随机元素的数组，默认数据类型为float64"
   ]
  },
  {
   "cell_type": "code",
   "execution_count": 6,
   "metadata": {},
   "outputs": [
    {
     "data": {
      "text/plain": [
       "array([[ 0.,  0.,  0.,  0.],\n",
       "       [ 0.,  0.,  0.,  0.],\n",
       "       [ 0.,  0.,  0.,  0.]])"
      ]
     },
     "execution_count": 6,
     "metadata": {},
     "output_type": "execute_result"
    }
   ],
   "source": [
    "np.zeros((3,4))"
   ]
  },
  {
   "cell_type": "code",
   "execution_count": 7,
   "metadata": {},
   "outputs": [
    {
     "data": {
      "text/plain": [
       "array([[[1, 1, 1, 1],\n",
       "        [1, 1, 1, 1],\n",
       "        [1, 1, 1, 1]],\n",
       "\n",
       "       [[1, 1, 1, 1],\n",
       "        [1, 1, 1, 1],\n",
       "        [1, 1, 1, 1]]], dtype=int16)"
      ]
     },
     "execution_count": 7,
     "metadata": {},
     "output_type": "execute_result"
    }
   ],
   "source": [
    "np.ones((2,3,4),dtype=np.int16)"
   ]
  },
  {
   "cell_type": "code",
   "execution_count": 8,
   "metadata": {},
   "outputs": [
    {
     "data": {
      "text/plain": [
       "array([[  2.04748105e+161,   1.81450395e-152,   6.01334515e-154,\n",
       "          1.32971156e-152,   5.39223091e+241,   1.02189774e-152],\n",
       "       [  2.85341981e+242,   1.47305454e+171,   6.62278150e+265,\n",
       "          3.81695140e+180,   2.31463017e-152,   1.35725900e+248],\n",
       "       [  6.01334515e-154,   1.94860809e-153,   2.41795992e+198,\n",
       "          7.53046676e+252,   5.98185637e-154,   5.33804097e+184],\n",
       "       [  3.53185982e+069,   5.70945931e+228,   4.00444531e+252,\n",
       "          4.73669337e+164,   2.50138310e-091,   1.73354582e+156],\n",
       "       [  1.27966391e-152,   8.78411349e+247,   6.01347002e-154,\n",
       "          1.89122289e+219,   1.94255855e+227,   9.75026736e+199]])"
      ]
     },
     "execution_count": 8,
     "metadata": {},
     "output_type": "execute_result"
    }
   ],
   "source": [
    "np.empty((5,6))"
   ]
  },
  {
   "cell_type": "code",
   "execution_count": 9,
   "metadata": {},
   "outputs": [
    {
     "name": "stdout",
     "output_type": "stream",
     "text": [
      "[ 0.    0.25  0.5   0.75  1.    1.25  1.5   1.75  2.  ]\n"
     ]
    }
   ],
   "source": [
    "from numpy import pi\n",
    "print(np.linspace(0,2,9))#0-2中的9个数字\n",
    "x=np.linspace(0,2*pi,100)\n",
    "f=np.sin(x)#f结果集"
   ]
  },
  {
   "cell_type": "markdown",
   "metadata": {},
   "source": [
    "打印数组\n",
    "如果数组元素太多，NumPy就会自动跳过中间部分的元素并且只打印边界元素"
   ]
  },
  {
   "cell_type": "code",
   "execution_count": null,
   "metadata": {
    "collapsed": true
   },
   "outputs": [],
   "source": [
    "print(np.arange(10000))\n",
    "print(np.arange(10000).reshape(100,100))"
   ]
  }
 ],
 "metadata": {
  "kernelspec": {
   "display_name": "Python 3",
   "language": "python",
   "name": "python3"
  },
  "language_info": {
   "codemirror_mode": {
    "name": "ipython",
    "version": 3
   },
   "file_extension": ".py",
   "mimetype": "text/x-python",
   "name": "python",
   "nbconvert_exporter": "python",
   "pygments_lexer": "ipython3",
   "version": "3.6.1"
  }
 },
 "nbformat": 4,
 "nbformat_minor": 2
}
