{
 "cells": [
  {
   "cell_type": "markdown",
   "metadata": {},
   "source": [
    "- lambda只是一个表达式，函数体比def简单很多\n",
    "- lambda的主体只是一个表单时，而不是一个代码块。仅仅能在lambda中封装有限的逻辑进去\n",
    "- lambda表达式是起到一个函数速写的作用，允许在代码内嵌一个函数的定义\n",
    "- 下面是例子："
   ]
  },
  {
   "cell_type": "code",
   "execution_count": 8,
   "metadata": {},
   "outputs": [
    {
     "name": "stdout",
     "output_type": "stream",
     "text": [
      "4\n",
      "6\n"
     ]
    }
   ],
   "source": [
    "#定义一个lambda表达式，求三个数的和\n",
    "f=lambda x,y,z:x+y+x\n",
    "print(f(1,2,3))\n",
    "f=lambda x,y,z:x+y+z\n",
    "print(f(1,2,3))"
   ]
  },
  {
   "cell_type": "markdown",
   "metadata": {},
   "source": [
    "lambda也可以定义在def函数中"
   ]
  },
  {
   "cell_type": "code",
   "execution_count": 11,
   "metadata": {},
   "outputs": [
    {
     "name": "stdout",
     "output_type": "stream",
     "text": [
      "28\n"
     ]
    }
   ],
   "source": [
    "def action(x):\n",
    "    return lambda y:x+y\n",
    "a=action(6)\n",
    "print(a(22))"
   ]
  },
  {
   "cell_type": "markdown",
   "metadata": {},
   "source": [
    "这里定义了一个action函数，返回了一个lambda表达式。其中lambda表达式获取到了上层def作用域的变量名x的值。\n",
    "a是action函数的返回值，a(22)，即是调用了action返回的lambda表达式。"
   ]
  },
  {
   "cell_type": "markdown",
   "metadata": {},
   "source": [
    "也可以把def直接写成lambda形式。如下："
   ]
  },
  {
   "cell_type": "code",
   "execution_count": 13,
   "metadata": {},
   "outputs": [
    {
     "data": {
      "text/plain": [
       "5"
      ]
     },
     "execution_count": 13,
     "metadata": {},
     "output_type": "execute_result"
    }
   ],
   "source": [
    "b=lambda x:lambda y:x+y\n",
    "a=b(3)\n",
    "a(2)"
   ]
  },
  {
   "cell_type": "code",
   "execution_count": null,
   "metadata": {
    "collapsed": true
   },
   "outputs": [],
   "source": []
  }
 ],
 "metadata": {
  "kernelspec": {
   "display_name": "Python 3",
   "language": "python",
   "name": "python3"
  },
  "language_info": {
   "codemirror_mode": {
    "name": "ipython",
    "version": 3
   },
   "file_extension": ".py",
   "mimetype": "text/x-python",
   "name": "python",
   "nbconvert_exporter": "python",
   "pygments_lexer": "ipython3",
   "version": "3.6.1"
  }
 },
 "nbformat": 4,
 "nbformat_minor": 2
}
