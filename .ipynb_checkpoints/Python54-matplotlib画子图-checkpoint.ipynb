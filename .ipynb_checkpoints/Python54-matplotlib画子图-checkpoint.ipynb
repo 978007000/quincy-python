{
 "cells": [
  {
   "cell_type": "code",
   "execution_count": 1,
   "metadata": {},
   "outputs": [],
   "source": [
    "import matplotlib.pyplot as plt\n",
    "import numpy as np"
   ]
  },
  {
   "cell_type": "markdown",
   "metadata": {},
   "source": [
    "# 功能需求\n",
    "在同一个界面中画出一组进行比较。\n",
    "matplotlib 中提供的 subplot 可以很好的解决这个问题"
   ]
  },
  {
   "cell_type": "markdown",
   "metadata": {},
   "source": [
    "matplotlib下, 一个 Figure 对象可以包含多个子图(Axes), 可以使用 subplot() 快速绘制, 其调用形式如下 :\n",
    "\n",
    "```subplot(numRows, numCols, plotNum)```\n",
    "\n",
    "图表的整个绘图区域被分成 ```numRows ```行和``` numCols``` 列\n",
    "\n",
    "然后按照从左到右，从上到下的顺序对每个子区域进行编号，左上的子区域的编号为1\n",
    "\n",
    "plotNum 参数指定创建的 Axes 对象所在的区域"
   ]
  },
  {
   "cell_type": "markdown",
   "metadata": {},
   "source": [
    "如果 `numRows ＝ 2, numCols ＝ 3`, 那整个绘制图表样式为 2X3 的图片区域, 用坐标表示为\n",
    "```\n",
    "(1, 1), (1, 2), (1, 3)\n",
    "(2, 1), (2, 2), (2, 3)```\n",
    "\n",
    "这时, 当 plotNum ＝ 3 时, 表示的坐标为(1, 3), 即第一行第三列的子图\n",
    "\n",
    "如果` numRows`, `numCols` 和 `plotNum` 这三个数都小于 10 的话, 可以把它们缩写为一个整数, 例如 subplot(323) 和 subplot(3,2,3) 是相同的.\n",
    "\n",
    "subplot在 plotNum 指定的区域中创建一个轴对象. 如果新创建的轴和之前创建的轴重叠的话，之前的轴将被删除."
   ]
  },
  {
   "cell_type": "code",
   "execution_count": null,
   "metadata": {},
   "outputs": [],
   "source": []
  }
 ],
 "metadata": {
  "kernelspec": {
   "display_name": "Python 3",
   "language": "python",
   "name": "python3"
  },
  "language_info": {
   "codemirror_mode": {
    "name": "ipython",
    "version": 3
   },
   "file_extension": ".py",
   "mimetype": "text/x-python",
   "name": "python",
   "nbconvert_exporter": "python",
   "pygments_lexer": "ipython3",
   "version": "3.6.4"
  }
 },
 "nbformat": 4,
 "nbformat_minor": 2
}
