{
 "cells": [
  {
   "cell_type": "markdown",
   "metadata": {},
   "source": [
    "# 简介\n"
   ]
  },
  {
   "cell_type": "markdown",
   "metadata": {},
   "source": [
    "Genism是一个开源的Python库，用于便捷高效地提取文档中的语义话题。它用于处理原始的、非结构化的电子文本（“纯文本”），gensim中的一些算法，如 Latent Semantic Analysis（潜在语义分析）、 Latent Dirichlet Allocation（潜在Dirichlet分布）、Random Projections（随机预测）通过检查训练文档中的共现实体来挖掘语义结构。"
   ]
  },
  {
   "cell_type": "markdown",
   "metadata": {},
   "source": [
    "# 快速上手"
   ]
  },
  {
   "cell_type": "code",
   "execution_count": 2,
   "metadata": {
    "collapsed": true
   },
   "outputs": [],
   "source": [
    "import logging\n",
    "logging.basicConfig(format='%(asctime)s:%(levelname)s:%(message)s',level=logging.INFO)"
   ]
  },
  {
   "cell_type": "code",
   "execution_count": 9,
   "metadata": {},
   "outputs": [],
   "source": [
    "#创建一个小的语料库\n",
    "from gensim import corpora,models,similarities\n",
    "\n",
    "corpus=[[(0,1.0),(1,1.0),(2,1.0)],\n",
    "        [(2, 1.0), (3, 1.0), (4, 1.0), (5, 1.0), (6, 1.0), (8, 1.0)],\n",
    "        [(1, 1.0), (3, 1.0), (4, 1.0), (7, 1.0)],\n",
    "        [(0, 1.0), (4, 2.0), (7, 1.0)],\n",
    "        [(3, 1.0), (5, 1.0), (6, 1.0)],\n",
    "        [(9, 1.0)],\n",
    "        [(9, 1.0), (10, 1.0)],\n",
    "        [(9, 1.0), (10, 1.0), (11, 1.0)],\n",
    "        [(8, 1.0), (10, 1.0), (11, 1.0)]]"
   ]
  },
  {
   "cell_type": "code",
   "execution_count": 25,
   "metadata": {},
   "outputs": [],
   "source": [
    "#对向量进行加权\n",
    "tfidf=models.TfidfModel(corpus)"
   ]
  },
  {
   "cell_type": "code",
   "execution_count": 17,
   "metadata": {},
   "outputs": [
    {
     "name": "stdout",
     "output_type": "stream",
     "text": [
      "[(0, 0.8075244024440723), (4, 0.5898341626740045)]\n"
     ]
    }
   ],
   "source": [
    "vec=[(0,1),(4,1)]\n",
    "print(tfidf[vec])"
   ]
  },
  {
   "cell_type": "code",
   "execution_count": 26,
   "metadata": {},
   "outputs": [
    {
     "name": "stdout",
     "output_type": "stream",
     "text": [
      "[(0, 0.4662244), (1, 0.19139354), (2, 0.24600551), (3, 0.82094586), (4, 0.0), (5, 0.0), (6, 0.0), (7, 0.0), (8, 0.0)]\n"
     ]
    }
   ],
   "source": [
    "index= similarities.SparseMatrixSimilarity(tfidf[corpus],num_features=12)\n",
    "sims=index[tfidf[vec]]\n",
    "print(list(enumerate(sims)))"
   ]
  },
  {
   "cell_type": "markdown",
   "metadata": {},
   "source": [
    "How to read this output? Document number zero (the first document) has a similarity score of 0.466=46.6%, the second document has a similarity score of 19.1% etc."
   ]
  },
  {
   "cell_type": "markdown",
   "metadata": {},
   "source": [
    "# 对语料进行分词"
   ]
  },
  {
   "cell_type": "code",
   "execution_count": 49,
   "metadata": {},
   "outputs": [],
   "source": [
    "import os\n",
    "import jieba\n",
    "sentences_file=open(\"files/data/python32-sentence.txt\",encoding='utf8')\n",
    "word_file=open(\"files/data/python32-word.txt\",\"a\",encoding=\"utf8\")\n",
    "lines=sentences_file.readlines()\n",
    "for line in lines:\n",
    "    line.replace('\\t','').replace('\\n','').replace(' ','')\n",
    "    segment_words=jieba.cut(line,cut_all=False)\n",
    "    word_file.write(\" \".join(segment_words))\n",
    "sentences_file.close()\n",
    "word_file.close()"
   ]
  },
  {
   "cell_type": "markdown",
   "metadata": {},
   "source": [
    "# 使用gensim的word2vec训练模型"
   ]
  },
  {
   "cell_type": "markdown",
   "metadata": {},
   "source": [
    "参考：[python初步实现word2vec](http://blog.csdn.net/xiaoquantouer/article/details/53583980)"
   ]
  },
  {
   "cell_type": "code",
   "execution_count": 59,
   "metadata": {},
   "outputs": [
    {
     "name": "stderr",
     "output_type": "stream",
     "text": [
      "WARNING:gensim.models.word2vec:under 10 jobs per worker: consider setting a smaller `batch_words' for smoother alpha decay\n"
     ]
    },
    {
     "name": "stdout",
     "output_type": "stream",
     "text": [
      "输出模型 Word2Vec(vocab=579, size=200, alpha=0.025)\n",
      "【企业】和【公司】的相似度为：0.9999545757451112\n",
      "\n",
      "与【科技】最相关的词有：\n",
      "\n",
      "， 0.9999620318412781\n",
      "有限公司 0.9999616146087646\n",
      "产品 0.9999591708183289\n",
      "是 0.9999580383300781\n",
      "和 0.9999551773071289\n",
      "： 0.9999542832374573\n",
      "成为 0.9999539256095886\n",
      "软件 0.9999529719352722\n",
      "经销商 0.9999511241912842\n",
      "的 0.9999507069587708\n",
      "年 0.999950110912323\n",
      "等 0.999950110912323\n",
      "技术 0.9999500513076782\n",
      "美国 0.9999497532844543\n",
      "月 0.9999494552612305\n",
      "及 0.999949038028717\n",
      "企业 0.9999480843544006\n",
      "核心 0.9999477863311768\n",
      "公司 0.999947726726532\n",
      "指定 0.9999475479125977\n",
      "*********\n",
      "\n",
      "公司-产品 生产\n",
      "。 0.9998433589935303\n",
      "等 0.9998431205749512\n",
      "的 0.9998403787612915\n",
      "*********\n",
      "\n",
      "不合群的词：公司\n",
      "***********\n",
      "\n"
     ]
    }
   ],
   "source": [
    "# 导入包\n",
    "from gensim.models import word2vec\n",
    "import logging\n",
    "\n",
    "#初始化\n",
    "logging.basicConfig(format='%(asctime)s:%(levelname)s:%(message)s',level=logging.INFO)\n",
    "sentences=word2vec.Text8Corpus(\"files/data/python32-word.txt\")#加载分词语料\n",
    "model=word2vec.Word2Vec(sentences,size=200)#训练skip-gram模型，默认window=5\n",
    "print(\"输出模型\",model)\n",
    "\n",
    "#计算两个单词的相似度\n",
    "try:\n",
    "    y1=model.similarity(\"企业\",\"公司\")\n",
    "except KeyError:\n",
    "    y1=0\n",
    "print(\"【企业】和【公司】的相似度为：{}\\n\".format(y1))\n",
    "\n",
    "#/计算某个词的相关词列表\n",
    "y2=model.most_similar(\"科技\",topn=20)#20个最相关的\n",
    "print(\"与【科技】最相关的词有：\\n\")\n",
    "for word in y2:\n",
    "    print(word[0],word[1])\n",
    "print(\"*********\\n\")\n",
    "\n",
    "#寻找对应关系\n",
    "print(\"公司-产品\",\"生产\")\n",
    "y3=model.most_similar([\"公司\",\"产品\"],[\"生产\"],topn=3)\n",
    "for word in y3:\n",
    "    print(word[0],word[1])\n",
    "print(\"*********\\n\")\n",
    "\n",
    "#寻找不合群的词\n",
    "y4 =model.doesnt_match(u\"企业 公司 是 合作伙伴\".split())  \n",
    "print(\"不合群的词：{}\".format(y4))  \n",
    "print(\"***********\\n\"  )\n",
    "\n",
    "#保存模型\n",
    "model.save(\"企业关系.model\")"
   ]
  }
 ],
 "metadata": {
  "kernelspec": {
   "display_name": "Python 3",
   "language": "python",
   "name": "python3"
  },
  "language_info": {
   "codemirror_mode": {
    "name": "ipython",
    "version": 3
   },
   "file_extension": ".py",
   "mimetype": "text/x-python",
   "name": "python",
   "nbconvert_exporter": "python",
   "pygments_lexer": "ipython3",
   "version": "3.6.4"
  }
 },
 "nbformat": 4,
 "nbformat_minor": 2
}
