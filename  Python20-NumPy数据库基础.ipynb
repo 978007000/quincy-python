{
 "cells": [
  {
   "cell_type": "code",
   "execution_count": 5,
   "metadata": {},
   "outputs": [
    {
     "data": {
      "text/plain": [
       "array([[ 0.70142516,  0.76624286,  0.76852817,  0.85341183],\n",
       "       [ 0.91703107,  0.22960455,  0.91748342,  0.43678499],\n",
       "       [ 0.45848005,  0.48995716,  0.03290136,  0.12290189],\n",
       "       [ 0.81532653,  0.55516196,  0.06988277,  0.44067742]])"
      ]
     },
     "execution_count": 5,
     "metadata": {},
     "output_type": "execute_result"
    }
   ],
   "source": [
    "#构造4x4的随机数组\n",
    "from numpy import *\n",
    "random.rand(4,4)"
   ]
  },
  {
   "cell_type": "code",
   "execution_count": 8,
   "metadata": {},
   "outputs": [
    {
     "data": {
      "text/plain": [
       "matrix([[ 0.17193286,  0.08985372,  0.22320666,  0.18523909],\n",
       "        [ 0.51839513,  0.80512071,  0.16249185,  0.87934443],\n",
       "        [ 0.49437921,  0.93479144,  0.43857547,  0.53567519],\n",
       "        [ 0.77724728,  0.31666018,  0.21805704,  0.88864842]])"
      ]
     },
     "execution_count": 8,
     "metadata": {},
     "output_type": "execute_result"
    }
   ],
   "source": [
    "#调用mat函数将数组转换成矩阵matrix\n",
    "randMat=mat(random.rand(4,4))\n",
    "randMat"
   ]
  },
  {
   "cell_type": "code",
   "execution_count": 10,
   "metadata": {},
   "outputs": [
    {
     "data": {
      "text/plain": [
       "matrix([[-6.01149667, -3.93799415,  2.79598486,  3.46444966],\n",
       "        [-2.3842268 ,  0.04888959,  1.38835591, -0.38828245],\n",
       "        [ 6.28097775,  0.21311018, -0.34221547, -1.31386443],\n",
       "        [ 4.5662577 ,  3.37461207, -2.85623214, -1.44408413]])"
      ]
     },
     "execution_count": 10,
     "metadata": {},
     "output_type": "execute_result"
    }
   ],
   "source": [
    "#矩阵求逆运算\n",
    "randMat.I"
   ]
  },
  {
   "cell_type": "code",
   "execution_count": 13,
   "metadata": {},
   "outputs": [
    {
     "data": {
      "text/plain": [
       "matrix([[  1.00000000e+00,  -1.11022302e-16,   1.66533454e-16,\n",
       "           0.00000000e+00],\n",
       "        [  4.44089210e-16,   1.00000000e+00,   2.22044605e-16,\n",
       "          -2.22044605e-16],\n",
       "        [  4.99600361e-16,  -2.22044605e-16,   1.00000000e+00,\n",
       "          -2.22044605e-16],\n",
       "        [  8.88178420e-16,   0.00000000e+00,   0.00000000e+00,\n",
       "           1.00000000e+00]])"
      ]
     },
     "execution_count": 13,
     "metadata": {},
     "output_type": "execute_result"
    }
   ],
   "source": [
    "#矩阵乘法\n",
    "invRandmat=randMat.I\n",
    "randMat*invRandmat"
   ]
  },
  {
   "cell_type": "code",
   "execution_count": 15,
   "metadata": {},
   "outputs": [
    {
     "data": {
      "text/plain": [
       "matrix([[  2.22044605e-16,  -1.11022302e-16,   1.66533454e-16,\n",
       "           0.00000000e+00],\n",
       "        [  4.44089210e-16,  -4.44089210e-16,   2.22044605e-16,\n",
       "          -2.22044605e-16],\n",
       "        [  4.99600361e-16,  -2.22044605e-16,   2.22044605e-16,\n",
       "          -2.22044605e-16],\n",
       "        [  8.88178420e-16,   0.00000000e+00,   0.00000000e+00,\n",
       "          -2.22044605e-16]])"
      ]
     },
     "execution_count": 15,
     "metadata": {},
     "output_type": "execute_result"
    }
   ],
   "source": [
    "#矩阵乘以其逆矩阵应该是单位矩阵，下面是得到误差值\n",
    "myEye=randMat*invRandmat\n",
    "myEye-eye(4)"
   ]
  },
  {
   "cell_type": "code",
   "execution_count": 25,
   "metadata": {},
   "outputs": [
    {
     "data": {
      "text/plain": [
       "array([[ 1.,  0.,  0.],\n",
       "       [ 0.,  1.,  0.],\n",
       "       [ 0.,  0.,  1.]])"
      ]
     },
     "execution_count": 25,
     "metadata": {},
     "output_type": "execute_result"
    }
   ],
   "source": [
    "#shape函数是numpy.core.fromnumeric中的函数，它的功能是读取矩阵的长度，比如shape[0]就是读取矩阵第一维度的长度。\n",
    "e=eye(3)\n",
    "e"
   ]
  },
  {
   "cell_type": "code",
   "execution_count": 49,
   "metadata": {},
   "outputs": [
    {
     "data": {
      "text/plain": [
       "3"
      ]
     },
     "execution_count": 49,
     "metadata": {},
     "output_type": "execute_result"
    }
   ],
   "source": [
    "e.shape[0]"
   ]
  },
  {
   "cell_type": "code",
   "execution_count": 52,
   "metadata": {},
   "outputs": [
    {
     "data": {
      "text/plain": [
       "4"
      ]
     },
     "execution_count": 52,
     "metadata": {},
     "output_type": "execute_result"
    }
   ],
   "source": [
    "x=random.rand(4,3)\n",
    "x.shape[0]"
   ]
  },
  {
   "cell_type": "code",
   "execution_count": 28,
   "metadata": {},
   "outputs": [
    {
     "data": {
      "text/plain": [
       "array([1, 2, 1, 2, 1, 2, 1, 2, 1, 2])"
      ]
     },
     "execution_count": 28,
     "metadata": {},
     "output_type": "execute_result"
    }
   ],
   "source": [
    "#numpy tile方法\n",
    "#numpy.tile(A,B)函数  重复A，B次，这里的B可以时int类型也可以是元组类型。\n",
    "tile([1,2],5)#列方向重复5次，行默认1次"
   ]
  },
  {
   "cell_type": "code",
   "execution_count": 30,
   "metadata": {},
   "outputs": [
    {
     "data": {
      "text/plain": [
       "array([[1, 2]])"
      ]
     },
     "execution_count": 30,
     "metadata": {},
     "output_type": "execute_result"
    }
   ],
   "source": [
    "tile([1,2],(1,1))#列方向重复1次，行1次"
   ]
  },
  {
   "cell_type": "code",
   "execution_count": 31,
   "metadata": {},
   "outputs": [
    {
     "data": {
      "text/plain": [
       "array([[1, 2],\n",
       "       [1, 2]])"
      ]
     },
     "execution_count": 31,
     "metadata": {},
     "output_type": "execute_result"
    }
   ],
   "source": [
    "tile([1,2],(2,1))#行2次，列1次"
   ]
  },
  {
   "cell_type": "code",
   "execution_count": 32,
   "metadata": {},
   "outputs": [
    {
     "data": {
      "text/plain": [
       "array([[1, 2, 1, 2, 1, 2]])"
      ]
     },
     "execution_count": 32,
     "metadata": {},
     "output_type": "execute_result"
    }
   ],
   "source": [
    "tile([1,2],(1,3))#行1次，列3次"
   ]
  },
  {
   "cell_type": "code",
   "execution_count": 34,
   "metadata": {},
   "outputs": [
    {
     "data": {
      "text/plain": [
       "array([[1, 2, 1, 2, 1, 2],\n",
       "       [1, 2, 1, 2, 1, 2]])"
      ]
     },
     "execution_count": 34,
     "metadata": {},
     "output_type": "execute_result"
    }
   ],
   "source": [
    "tile([1,2],(2,3))#行2次，列3次"
   ]
  },
  {
   "cell_type": "code",
   "execution_count": null,
   "metadata": {
    "collapsed": true
   },
   "outputs": [],
   "source": []
  },
  {
   "cell_type": "code",
   "execution_count": null,
   "metadata": {
    "collapsed": true
   },
   "outputs": [],
   "source": []
  },
  {
   "cell_type": "code",
   "execution_count": 20,
   "metadata": {},
   "outputs": [
    {
     "data": {
      "text/plain": [
       "array([[ 1. ,  1.1],\n",
       "       [ 1. ,  1. ],\n",
       "       [ 0. ,  0. ],\n",
       "       [ 0. ,  0.1]])"
      ]
     },
     "execution_count": 20,
     "metadata": {},
     "output_type": "execute_result"
    }
   ],
   "source": [
    "#kNN算法\n",
    "from numpy import *\n",
    "import operator\n",
    "def CreateDataSet():\n",
    "    group=array([[1.0,1.1],[1.0,1.0],[0,0],[0,0.1]])\n",
    "    labels=['A','A','B','B']\n",
    "    return group,labels\n",
    "group,labels=CreateDataSet()\n",
    "group"
   ]
  },
  {
   "cell_type": "code",
   "execution_count": 22,
   "metadata": {},
   "outputs": [
    {
     "data": {
      "text/plain": [
       "['A', 'A', 'B', 'B']"
      ]
     },
     "execution_count": 22,
     "metadata": {},
     "output_type": "execute_result"
    }
   ],
   "source": [
    "labels"
   ]
  },
  {
   "cell_type": "code",
   "execution_count": 58,
   "metadata": {},
   "outputs": [
    {
     "name": "stdout",
     "output_type": "stream",
     "text": [
      "4\n",
      "这个是dataSet [[ 1.   1.1]\n",
      " [ 1.   1. ]\n",
      " [ 0.   0. ]\n",
      " [ 0.   0.1]]\n",
      "这个是测试的输入向量 [[0 0]\n",
      " [0 0]\n",
      " [0 0]\n",
      " [0 0]]\n",
      "这个是点差 [[-1.  -1.1]\n",
      " [-1.  -1. ]\n",
      " [ 0.   0. ]\n",
      " [ 0.  -0.1]]\n",
      "这个是距离平方 [[ 1.    1.21]\n",
      " [ 1.    1.  ]\n",
      " [ 0.    0.  ]\n",
      " [ 0.    0.01]]\n",
      "这个是距离平方和 [ 2.21  2.    0.    0.01]\n"
     ]
    },
    {
     "data": {
      "text/plain": [
       "'B'"
      ]
     },
     "execution_count": 58,
     "metadata": {},
     "output_type": "execute_result"
    }
   ],
   "source": [
    "def  classify0(inX,dataSet,labels,k):\n",
    "    dataSetSize=dataSet.shape[0]\n",
    "    print(dataSetSize)\n",
    "    diffMat=tile(inX,(dataSetSize,1))-dataSet#将输入的点与训练样本做差\n",
    "    print(\"这个是dataSet\",dataSet)\n",
    "    print(\"这个是测试的输入向量\",tile(inX,(dataSetSize,1)))\n",
    "    print(\"这个是点差\",diffMat)\n",
    "    sqDiffMat=diffMat**2#计算出距离平方\n",
    "    print(\"这个是距离平方\",sqDiffMat)\n",
    "    sqDistances=sqDiffMat.sum(axis=1)#计算距离平方和\n",
    "    print(\"这个是距离平方和\",sqDistances)\n",
    "    distances=sqDistances**2#开方得出距离\n",
    "    sortedDistIndicies=distances.argsort()#从小到大排序，提取索引\n",
    "    classCount={}\n",
    "    for i in range(k):\n",
    "        voteIlabel=labels[sortedDistIndicies[i]]\n",
    "        classCount[voteIlabel]=classCount.get(voteIlabel,0)+1\n",
    "    sortedClassCount=sorted(classCount.items(),key=operator.itemgetter(1),reverse=True)\n",
    "    return sortedClassCount[0][0]\n",
    "x=classify0([0,0],group,labels,3)  \n",
    "x"
   ]
  }
 ],
 "metadata": {
  "kernelspec": {
   "display_name": "Python 3",
   "language": "python",
   "name": "python3"
  },
  "language_info": {
   "codemirror_mode": {
    "name": "ipython",
    "version": 3
   },
   "file_extension": ".py",
   "mimetype": "text/x-python",
   "name": "python",
   "nbconvert_exporter": "python",
   "pygments_lexer": "ipython3",
   "version": "3.6.1"
  }
 },
 "nbformat": 4,
 "nbformat_minor": 2
}
