{
 "cells": [
  {
   "cell_type": "markdown",
   "metadata": {},
   "source": [
    "itchat是一个开源的微信个人号接口\n",
    "\n",
    "[itchat文档地址](https://itchat.readthedocs.io/zh/latest/)"
   ]
  },
  {
   "cell_type": "code",
   "execution_count": 41,
   "metadata": {},
   "outputs": [
    {
     "name": "stderr",
     "output_type": "stream",
     "text": [
      "itchat has already logged in.\n"
     ]
    },
    {
     "data": {
      "text/plain": [
       "<ItchatReturnValue: {'BaseResponse': {'Ret': 0, 'ErrMsg': '请求成功', 'RawMsg': '请求成功'}, 'MsgID': '8935874207114774872', 'LocalID': '15030459375606'}>"
      ]
     },
     "execution_count": 41,
     "metadata": {},
     "output_type": "execute_result"
    }
   ],
   "source": [
    "import itchat\n",
    "itchat.auto_login()"
   ]
  },
  {
   "cell_type": "code",
   "execution_count": 38,
   "metadata": {},
   "outputs": [
    {
     "data": {
      "text/plain": [
       "[<User: {'MemberList': <ContactList: []>, 'Uin': 0, 'UserName': '@22900b04b63c55b45cd5d61908ed7690ec64d34e171e00e0aba6a1cd88ff74f2', 'NickName': '话歪之地', 'HeadImgUrl': '/cgi-bin/mmwebwx-bin/webwxgeticon?seq=664628405&username=@22900b04b63c55b45cd5d61908ed7690ec64d34e171e00e0aba6a1cd88ff74f2&skey=@crypt_6d9d76c8_c7c872ad4386f09a7394c277a14efc18', 'ContactFlag': 8195, 'MemberCount': 0, 'RemarkName': '熊高雄', 'HideInputBarFlag': 0, 'Sex': 1, 'Signature': '同名微博', 'VerifyFlag': 0, 'OwnerUin': 0, 'PYInitial': 'HWZD', 'PYQuanPin': 'huawaizhide', 'RemarkPYInitial': 'XGX', 'RemarkPYQuanPin': 'xionggaoxiong', 'StarFriend': 0, 'AppAccountFlag': 0, 'Statues': 0, 'AttrStatus': 98405, 'Province': '浙江', 'City': '杭州', 'Alias': '', 'SnsFlag': 177, 'UniFriend': 0, 'DisplayName': '', 'ChatRoomId': 0, 'KeyWord': '', 'EncryChatRoomId': '', 'IsOwner': 0}>]"
      ]
     },
     "execution_count": 38,
     "metadata": {},
     "output_type": "execute_result"
    }
   ],
   "source": [
    "# 获取自己的用户信息，返回自己的属性字典\n",
    "itchat.search_friends()\n",
    "\n",
    "# 获取任何一项等于name键值的用户\n",
    "itchat.search_friends(name='熊高雄')\n"
   ]
  },
  {
   "cell_type": "code",
   "execution_count": 43,
   "metadata": {},
   "outputs": [
    {
     "data": {
      "text/plain": [
       "<ItchatReturnValue: {'BaseResponse': {'Ret': 0, 'ErrMsg': '请求成功', 'RawMsg': '请求成功'}, 'MsgID': '7128434327145258374', 'LocalID': '15030459754332'}>"
      ]
     },
     "execution_count": 43,
     "metadata": {},
     "output_type": "execute_result"
    }
   ],
   "source": [
    "itchat.send('高雄你给我发一条信息，我试试我能不能自动回复', toUserName='@22900b04b63c55b45cd5d61908ed7690ec64d34e171e00e0aba6a1cd88ff74f2')"
   ]
  },
  {
   "cell_type": "code",
   "execution_count": 44,
   "metadata": {},
   "outputs": [
    {
     "data": {
      "text/plain": [
       "<ItchatReturnValue: {'BaseResponse': {'Ret': 0, 'ErrMsg': '请求成功', 'RawMsg': '请求成功'}, 'MsgID': '5486567055566135429', 'LocalID': '15030459881768'}>"
      ]
     },
     "execution_count": 44,
     "metadata": {},
     "output_type": "execute_result"
    }
   ],
   "source": [
    "itchat.send('我能自动给你回复', toUserName='@22900b04b63c55b45cd5d61908ed7690ec64d34e171e00e0aba6a1cd88ff74f2')"
   ]
  },
  {
   "cell_type": "code",
   "execution_count": null,
   "metadata": {
    "collapsed": true
   },
   "outputs": [],
   "source": [
    "import itchat, time\n",
    "\n",
    "@itchat.msg_register(['Text', 'Map', 'Card', 'Note', 'Sharing'])\n",
    "def text_reply(msg):\n",
    "    itchat.send('%s: %s'%(msg['Type'], msg['Text']), msg['FromUserName'])\n",
    "\n",
    "@itchat.msg_register(['Picture', 'Recording', 'Attachment', 'Video'])\n",
    "def download_files(msg):\n",
    "    fileDir = '%s%s'%(msg['Type'], int(time.time()))\n",
    "    msg['Text'](fileDir)\n",
    "    itchat.send('%s received'%msg['Type'], msg['FromUserName'])\n",
    "    itchat.send('@%s@%s'%('img' if msg['Type'] == 'Picture' else 'fil', fileDir), msg['FromUserName'])\n",
    "\n",
    "@itchat.msg_register('Friends')\n",
    "def add_friend(msg):\n",
    "    itchat.add_friend(**msg['Text'])\n",
    "    itchat.get_contract()\n",
    "    itchat.send_msg('Nice to meet you!', msg['RecommendInfo']['UserName'])\n",
    "\n",
    "@itchat.msg_register('Text', isGroupChat = True)\n",
    "def text_reply(msg):\n",
    "    if msg['isAt']:\n",
    "        itchat.send(u'@%s\\u2005I received: %s'%(msg['ActualNickName'], msg['Content']), msg['FromUserName'])\n",
    "\n",
    "itchat.auto_login()\n",
    "itchat.run()"
   ]
  }
 ],
 "metadata": {
  "kernelspec": {
   "display_name": "Python 3",
   "language": "python",
   "name": "python3"
  },
  "language_info": {
   "codemirror_mode": {
    "name": "ipython",
    "version": 3
   },
   "file_extension": ".py",
   "mimetype": "text/x-python",
   "name": "python",
   "nbconvert_exporter": "python",
   "pygments_lexer": "ipython3",
   "version": "3.6.1"
  }
 },
 "nbformat": 4,
 "nbformat_minor": 2
}
